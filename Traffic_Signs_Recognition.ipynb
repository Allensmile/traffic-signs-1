{
 "cells": [
  {
   "cell_type": "markdown",
   "metadata": {},
   "source": [
    "# Self-Driving Car Engineer Nanodegree\n",
    "\n",
    "## Deep Learning\n",
    "\n",
    "## Project: Build a Traffic Sign Recognition Classifier\n",
    "\n",
    "In this notebook, a template is provided for you to implement your functionality in stages which is required to successfully complete this project. If additional code is required that cannot be included in the notebook, be sure that the Python code is successfully imported and included in your submission, if necessary. Sections that begin with **'Implementation'** in the header indicate where you should begin your implementation for your project. Note that some sections of implementation are optional, and will be marked with **'Optional'** in the header.\n",
    "\n",
    "In addition to implementing code, there will be questions that you must answer which relate to the project and your implementation. Each section where you will answer a question is preceded by a **'Question'** header. Carefully read each question and provide thorough answers in the following text boxes that begin with **'Answer:'**. Your project submission will be evaluated based on your answers to each of the questions and the implementation you provide.\n",
    "\n",
    ">**Note:** Code and Markdown cells can be executed using the **Shift + Enter** keyboard shortcut. In addition, Markdown cells can be edited by typically double-clicking the cell to enter edit mode."
   ]
  },
  {
   "cell_type": "markdown",
   "metadata": {},
   "source": [
    "---\n",
    "\n",
    "## Step 1: Dataset Exploration\n",
    "\n",
    "Visualize the German Traffic Signs Dataset. This is open ended, some suggestions include: plotting traffic signs images, plotting the count of each sign, etc. Be creative!\n",
    "\n",
    "\n",
    "The pickled data is a dictionary with 4 key/value pairs:\n",
    "\n",
    "- features -> the images pixel values, (width, height, channels)\n",
    "- labels -> the label of the traffic sign\n",
    "- sizes -> the original width and height of the image, (width, height)\n",
    "- coords -> coordinates of a bounding box around the sign in the image, (x1, y1, x2, y2). Based the original image (not the resized version)."
   ]
  },
  {
   "cell_type": "code",
   "execution_count": 1,
   "metadata": {
    "collapsed": false
   },
   "outputs": [],
   "source": [
    "%matplotlib inline\n",
    "\n",
    "import numpy as np\n",
    "import matplotlib\n",
    "matplotlib.use('TkAgg', warn = False)\n",
    "from matplotlib import pyplot\n",
    "import tensorflow as tf"
   ]
  },
  {
   "cell_type": "code",
   "execution_count": 2,
   "metadata": {
    "collapsed": true
   },
   "outputs": [],
   "source": [
    "import pickle\n",
    "\n",
    "def load_pickled_data(file, columns = ['features', 'labels']):\n",
    "    \"\"\"\n",
    "    Loads pickled training and test data.\n",
    "\n",
    "    Returns\n",
    "    -------\n",
    "    A tuple of X_train, y_train and X_test, y_test datasets.    \n",
    "    \"\"\"\n",
    "\n",
    "    with open(file, mode='rb') as f:\n",
    "        dataset = pickle.load(f)\n",
    "    \n",
    "    return tuple(map(lambda c: dataset[c], columns))"
   ]
  },
  {
   "cell_type": "code",
   "execution_count": 3,
   "metadata": {
    "collapsed": false
   },
   "outputs": [
    {
     "name": "stdout",
     "output_type": "stream",
     "text": [
      "Number of training examples = 39209\n",
      "Number of testing examples = 12630\n",
      "Image data shape = (32, 32, 3)\n",
      "Number of classes = 43\n"
     ]
    }
   ],
   "source": [
    "train_dataset_file = \"traffic-signs-data/train.p\"\n",
    "test_dataset_file = \"traffic-signs-data/test.p\"\n",
    "\n",
    "X_train, y_train, sizes, positions = load_pickled_data(train_dataset_file, ['features', 'labels', 'sizes', 'coords'])\n",
    "X_test, y_test = load_pickled_data(test_dataset_file)\n",
    "\n",
    "n_train = y_train.shape[0]\n",
    "n_test = y_test.shape[0]\n",
    "image_shape = X_train[0].shape\n",
    "image_size = image_shape[0]\n",
    "sign_classes, class_indices, class_counts = np.unique(y_train, return_index = True, return_counts = True)\n",
    "n_classes = class_counts.shape[0]\n",
    "\n",
    "print(\"Number of training examples =\", n_train)\n",
    "print(\"Number of testing examples =\", n_test)\n",
    "print(\"Image data shape =\", image_shape)\n",
    "print(\"Number of classes =\", n_classes)"
   ]
  },
  {
   "cell_type": "code",
   "execution_count": 4,
   "metadata": {
    "collapsed": true
   },
   "outputs": [],
   "source": [
    "from pandas.io.parsers import read_csv\n",
    "\n",
    "signnames = read_csv(\"signnames.csv\").values[:, 1]"
   ]
  },
  {
   "cell_type": "markdown",
   "metadata": {},
   "source": [
    "### Original photos\n",
    "\n",
    "Let's first explore data about original photos. Who knows — maybe we can spot some data correlations with signs positions in the photos or positions across specific sign classes.\n",
    "\n",
    "Let's first plot histograms of original photos' sizes."
   ]
  },
  {
   "cell_type": "code",
   "execution_count": null,
   "metadata": {
    "collapsed": true
   },
   "outputs": [],
   "source": [
    "width_fraction = (positions[:, 2] - positions[:, 0]) / sizes[:, 0]\n",
    "height_fraction = (positions[:, 3] - positions[:, 1]) / sizes[:, 1]\n",
    "sizes_figure = pyplot.figure(figsize = (10, 4))\n",
    "\n",
    "axis = sizes_figure.add_subplot(1, 2, 1)\n",
    "axis.hist(sizes[:, 0])\n",
    "pyplot.title('Original photos\\'s widths')\n",
    "pyplot.xlabel('Width')\n",
    "pyplot.ylabel('Photos')\n",
    "\n",
    "axis = sizes_figure.add_subplot(1, 2, 2)\n",
    "axis.hist(sizes[:, 1])\n",
    "pyplot.title('Original photos\\'s heights')\n",
    "pyplot.xlabel('Height')\n",
    "pyplot.ylabel('Photos')\n",
    "\n",
    "pyplot.show()"
   ]
  },
  {
   "cell_type": "markdown",
   "metadata": {},
   "source": [
    "Doesn't look too promising — apparently photos are of all different sizes, majority ranging from ~30 to ~150 px both width and height. Actually both histograms looks surprisingly similar, I bet aspect ratios of all photos are close to 1. Let's check it out!"
   ]
  },
  {
   "cell_type": "code",
   "execution_count": null,
   "metadata": {
    "collapsed": true
   },
   "outputs": [],
   "source": [
    "sizes_figure = pyplot.figure()\n",
    "axis = sizes_figure.add_subplot(1, 1, 1)\n",
    "axis.hist(sizes[:, 0]/sizes[:, 1])\n",
    "pyplot.title('Photos\\' aspect ratios distribution')\n",
    "pyplot.xlabel('Aspect ratio')\n",
    "pyplot.ylabel('Photos')\n",
    "pyplot.show()"
   ]
  },
  {
   "cell_type": "markdown",
   "metadata": {},
   "source": [
    "There you go! Vast majority of original photos had aspect ratio ranging from 0.9 to 1.2, e.g. almost all photos were more or less square.\n",
    "\n",
    "Let's check how much area of the original image did signs occupy? In other words, to which extent did we have to crop the original photo to get the sign out of it. Again, let's check for both width and height by calculating sign dimensions as fractions of original photo dimensions."
   ]
  },
  {
   "cell_type": "code",
   "execution_count": null,
   "metadata": {
    "collapsed": true
   },
   "outputs": [],
   "source": [
    "width_fraction = (positions[:, 2] - positions[:, 0]) / sizes[:, 0]\n",
    "height_fraction = (positions[:, 3] - positions[:, 1]) / sizes[:, 1]\n",
    "\n",
    "sizes_figure = pyplot.figure(figsize = (10, 4))\n",
    "\n",
    "axis = sizes_figure.add_subplot(1, 2, 1)\n",
    "axis.hist(width_fraction)\n",
    "pyplot.title('Sign width / original photo width')\n",
    "pyplot.xlabel('Width fraction')\n",
    "pyplot.ylabel('Photos')\n",
    "\n",
    "axis = sizes_figure.add_subplot(1, 2, 2)\n",
    "axis.hist(height_fraction)\n",
    "pyplot.title('Sign height / original photo height')\n",
    "pyplot.xlabel('Height fraction')\n",
    "pyplot.ylabel('Photos')\n",
    "\n",
    "pyplot.show()"
   ]
  },
  {
   "cell_type": "code",
   "execution_count": null,
   "metadata": {
    "collapsed": false
   },
   "outputs": [],
   "source": [
    "from scipy import stats\n",
    "\n",
    "def print_stats(array, label):\n",
    "    _, minmax, mean, variance, _, _ = stats.describe(array)\n",
    "    margin = int((40 - len(label))/2)\n",
    "    for i in range(margin*2): \n",
    "        if i == margin: print(label.upper(), end=\"\")\n",
    "        print(\"=\", end=\"\")    \n",
    "    print()\n",
    "\n",
    "    print(\"  %-*s %s\" % (15, \"Min:\", str(minmax[0])))\n",
    "    print(\"  %-*s %s\" % (15, \"Max:\", str(minmax[1])))\n",
    "    print(\"  %-*s %s\" % (15, \"Mean:\", str(mean)))\n",
    "    print(\"  %-*s %s\" % (15, \"Variance:\", str(variance)))\n",
    "    \n",
    "    print()\n",
    "    \n",
    "print_stats(width_fraction, \" sign_width / photo_width \")\n",
    "print_stats(height_fraction, \" sign_height / photo_height \")"
   ]
  },
  {
   "cell_type": "markdown",
   "metadata": {},
   "source": [
    "Not really promising either. All photos had almost nothing but signs in them, for both width and height signs occupied at least half of the dimension, and for majority of samples signs occupied around 75% of the photo.\n",
    "\n",
    "Now, if we found any uneven distributions in the dataset I would be tempted to try and analyze it on per-class basis. Although for now data looks pretty homogeneous and I doubt there will be any meaningful patterns related to specific classes based on the original samples' images."
   ]
  },
  {
   "cell_type": "markdown",
   "metadata": {},
   "source": [
    "### Sample images\n",
    "\n",
    "Ok, let's check out the sign samples. We will go through all dataset classes, noting number of samples and plotting 10 random images representing each class."
   ]
  },
  {
   "cell_type": "code",
   "execution_count": null,
   "metadata": {
    "collapsed": true
   },
   "outputs": [],
   "source": [
    "import random\n",
    "\n",
    "col_width = max(len(name) for name in signnames)\n",
    "\n",
    "for c, c_index, c_count in zip(sign_classes, class_indices, class_counts):\n",
    "    print(\"Class %i: %-*s  %s samples\" % (c, col_width, signnames[c], str(c_count)))\n",
    "    fig = pyplot.figure(figsize = (6, 1))\n",
    "    fig.subplots_adjust(left = 0, right = 1, bottom = 0, top = 1, hspace = 0.05, wspace = 0.05)\n",
    "    random_indices = random.sample(range(c_index, c_index + c_count), 10)\n",
    "    for i in range(10):\n",
    "        axis = fig.add_subplot(1, 10, i + 1, xticks=[], yticks=[])\n",
    "        axis.imshow(X_train[random_indices[i]])\n",
    "    pyplot.show()\n",
    "    print(\"--------------------------------------------------------------------------------------\\n\")"
   ]
  },
  {
   "cell_type": "markdown",
   "metadata": {},
   "source": [
    "**Bad news**: Some classes are highly underrepresented. Overall amount of data is disappointing: some classes have as little as 210 samples, this won't be enough for most of the models to generalise well.\n",
    "\n",
    "**Good news**: There is a room for data augmentation.\n",
    "\n",
    "Images with some signs are horizontally symmetrical (like **Bumpy road** or **Ahead only**), and can be simply flipped horizontally, thus allowing us to get twice as much data for these classes. \n",
    "\n",
    "Other signs come in kind of interchageable pairs, like **Keep right** and **Keep left**: those signs can be flipped and assigned to a paired class. In some cases (like **Keep right** and **Keep left**) we increase the number of samples for **Keep left** from 300 to 2370!\n",
    "\n",
    "CNNs have built-in invariance to small translations, scaling and rotations. The training set doesn't seem to contain those deformations, so we will add those in our data augmentation step as well."
   ]
  },
  {
   "cell_type": "markdown",
   "metadata": {},
   "source": [
    "----\n",
    "\n",
    "## Step 2: Design and Test a Model Architecture\n",
    "\n",
    "Design and implement a deep learning model that learns to recognize traffic signs. Train and test your model on the [German Traffic Sign Dataset](http://benchmark.ini.rub.de/?section=gtsrb&subsection=dataset).\n",
    "\n",
    "There are various aspects to consider when thinking about this problem:\n",
    "\n",
    "- Your model can be derived from a deep feedforward net or a deep convolutional network.\n",
    "- Play around preprocessing techniques (normalization, rgb to grayscale, etc)\n",
    "- Number of examples per label (some have more than others).\n",
    "- Generate fake data.\n",
    "\n",
    "Here is an example of a [published baseline model on this problem](http://yann.lecun.com/exdb/publis/pdf/sermanet-ijcnn-11.pdf). It's not required to be familiar with the approach used in the paper but, it's good practice to try to read papers like these."
   ]
  },
  {
   "cell_type": "code",
   "execution_count": 5,
   "metadata": {
    "collapsed": false
   },
   "outputs": [],
   "source": [
    "from sklearn.utils import shuffle\n",
    "\n",
    "def preprocess_dataset(X, y = None):\n",
    "    \"\"\"\n",
    "    Performs feature scaling, one-hot encoding of labels and shuffles the data if labels are provided.\n",
    "    \n",
    "    Parameters\n",
    "    ----------\n",
    "    X     : ndarray\n",
    "            Dataset array containing feature examples.\n",
    "    y     : ndarray, optional, defaults to `None`\n",
    "            Dataset labels in index form.\n",
    "    Returns\n",
    "    -------\n",
    "    A tuple of X and y.    \n",
    "    \"\"\"\n",
    "\n",
    "    # Convert to grayscale, e.g. single channel Y\n",
    "    X = 0.2125 * X[:, :, :, 0] + 0.7154 * X[:, :, :, 1] + 0.0721 * X[:, :, :, 2]\n",
    "    # Scale features to be in [0, 1]\n",
    "    X = (X / 255.).astype(np.float32)\n",
    "\n",
    "    if y is not None:  \n",
    "        # Convert to one-hot encoding. Convert back with `y = y.nonzero()[1]`\n",
    "        y = np.eye(n_classes)[y]\n",
    "        X, y = shuffle(X, y, random_state = 42)\n",
    "\n",
    "    # Add a single grayscale channel\n",
    "    X = X.reshape(X.shape + (1,)) \n",
    "    return X, y\n",
    "\n",
    "def class_name(one_hot):\n",
    "    return signnames[one_hot.nonzero()[0][0]]"
   ]
  },
  {
   "cell_type": "code",
   "execution_count": 6,
   "metadata": {
    "collapsed": false
   },
   "outputs": [
    {
     "name": "stderr",
     "output_type": "stream",
     "text": [
      "/home/alex/bin/anaconda3/lib/python3.5/site-packages/sklearn/cross_validation.py:44: DeprecationWarning: This module was deprecated in version 0.18 in favor of the model_selection module into which all the refactored classes and functions are moved. Also note that the interface of the new CV iterators are different from that of this module. This module will be removed in 0.20.\n",
      "  \"This module will be removed in 0.20.\", DeprecationWarning)\n"
     ]
    },
    {
     "name": "stdout",
     "output_type": "stream",
     "text": [
      "Number of training examples = 31367\n",
      "Number of validation examples = 7842\n",
      "Number of testing examples = 12630\n",
      "Image data shape = (32, 32, 1)\n"
     ]
    }
   ],
   "source": [
    "from sklearn.cross_validation import train_test_split\n",
    "\n",
    "# Load pickled data\n",
    "X_train, y_train = load_pickled_data(train_dataset_file)\n",
    "X_test, y_test = load_pickled_data(test_dataset_file)\n",
    "\n",
    "# Preprocess initial data by scaling features, shiffling the data, etc.\n",
    "X_test, y_test = preprocess_dataset(X_test, y_test)\n",
    "X_train, y_train = preprocess_dataset(X_train, y_train)\n",
    "\n",
    "# Use 20% of the training dataset for validation.\n",
    "X_train, X_valid, y_train, y_valid = train_test_split(X_train, y_train, test_size = 0.2)\n",
    "\n",
    "print(\"Number of training examples =\", y_train.shape[0])\n",
    "print(\"Number of validation examples =\", y_valid.shape[0])\n",
    "print(\"Number of testing examples =\", y_test.shape[0])\n",
    "print(\"Image data shape =\", X_train[0].shape)"
   ]
  },
  {
   "cell_type": "code",
   "execution_count": 7,
   "metadata": {
    "collapsed": false
   },
   "outputs": [
    {
     "name": "stderr",
     "output_type": "stream",
     "text": [
      "/home/alex/bin/anaconda3/lib/python3.5/site-packages/theano/tensor/signal/downsample.py:6: UserWarning: downsample module has been moved to the theano.tensor.signal.pool module.\n",
      "  \"downsample module has been moved to the theano.tensor.signal.pool module.\")\n"
     ]
    }
   ],
   "source": [
    "from nolearn.lasagne import BatchIterator\n",
    "from skimage.transform import rotate\n",
    "from skimage.transform import warp\n",
    "from skimage.transform import ProjectiveTransform\n",
    "from skimage.util import random_noise\n",
    "from skimage.exposure import adjust_gamma\n",
    "from skimage.filters import gaussian\n",
    "import random\n",
    "\n",
    "class AugmentedSignsBatchIterator(BatchIterator):\n",
    "    \n",
    "    # Classes of signs that, when flipped horizontally, should still be classified as the same class\n",
    "    self_flippable = np.array([11, 12, 13, 15, 17, 18, 22, 26, 30, 35])\n",
    "    # Classes of signs that, when flipped horizontally, should still be classified as some other class\n",
    "    cross_flippable = np.array([\n",
    "        [19, 20], \n",
    "        [33, 34], \n",
    "        [36, 37], \n",
    "        [38, 39]\n",
    "    ])\n",
    "      \n",
    "    def __init__(self, batch_size, shuffle = False, seed = 42):\n",
    "        super(AugmentedSignsBatchIterator, self).__init__(batch_size, shuffle, seed)\n",
    "        \n",
    "        # Total number of classes    \n",
    "        num_classes = 43\n",
    "            \n",
    "        # Generate a conversion matrix for the one-hot encoded `y` when flipping the image.\n",
    "        self.y_flip_conversion = np.zeros((num_classes, num_classes))\n",
    "        self.y_flip_conversion[self.self_flippable, self.self_flippable] = 1.\n",
    "        self.y_flip_conversion[self.cross_flippable[:, 0], self.cross_flippable[:, 1]] = 1.\n",
    "        self.y_flip_conversion[self.cross_flippable[:, 1], self.cross_flippable[:, 0]] = 1.\n",
    "        \n",
    "        # Create a list of all flippable classes.\n",
    "        self.flippable = np.append(self.self_flippable, self.cross_flippable.flatten())\n",
    "\n",
    "    def transform(self, Xb, yb):\n",
    "        \"\"\"\n",
    "        Applies a pipeline of randomised transformations for data augmentation.\n",
    "        \"\"\"\n",
    "        Xb, yb = super(AugmentedSignsBatchIterator, self).transform(\n",
    "            Xb if yb is None else Xb.copy(), \n",
    "            None if yb is None else yb.copy()\n",
    "        )\n",
    "        \n",
    "        if yb is not None:\n",
    "            batch_size = Xb.shape[0]\n",
    "            image_size = Xb.shape[1]\n",
    "            \n",
    "            Xb = self.rotate(Xb, batch_size)\n",
    "            Xb = self.apply_projection_transform(Xb, batch_size, image_size)\n",
    "            Xb = self.adjust_gamma(Xb, batch_size)\n",
    "            Xb = self.blur(Xb, batch_size)\n",
    "            #Xb = self.add_noise(Xb, batch_size)\n",
    "            Xb, yb = self.flip_horizontally(Xb, yb, batch_size)\n",
    "\n",
    "        return Xb, yb\n",
    "    \n",
    "    def flip_horizontally(self, Xb, yb, batch_size, p = 0.5):\n",
    "        \"\"\"\n",
    "        Flips random subset of images horizontally, but only those that can either be flipped \n",
    "        and would still represent the same class, or those that can represent some other class\n",
    "        when flipped. In latter case updates batch labels as well.\n",
    "        \"\"\"\n",
    "        # Get a mask of randomly chosen half of elements\n",
    "        random_choice_indices = np.random.choice(batch_size, int(batch_size * p), replace = False)\n",
    "        random_choice_mask = np.zeros(batch_size, dtype = bool)\n",
    "        random_choice_mask[random_choice_indices] = True\n",
    "        \n",
    "        # Get a mask of flippable elements in current batch\n",
    "        flippable_mask = np.in1d(yb.nonzero()[1], self.flippable)\n",
    "        \n",
    "        # Get an intersection mask of randomly chosen AND flippable elements\n",
    "        flip_mask = random_choice_mask & flippable_mask\n",
    "        \n",
    "        # Flip images and flip labels as well, if requried. The `y_flip_conversion` is going to take care of that.\n",
    "        Xb[flip_mask] = Xb[flip_mask, :, ::-1, :]\n",
    "        yb[flip_mask] = np.transpose(np.dot(self.y_flip_conversion, np.transpose(yb[flip_mask])))\n",
    "        \n",
    "        return Xb, yb\n",
    "        \n",
    "    def rotate(self, Xb, batch_size, p = 0.5):\n",
    "        \"\"\"\n",
    "        Applies random rotation in range (-15, 15) degrees to a random subset of images.\n",
    "        \"\"\"\n",
    "        for i in np.random.choice(batch_size, int(batch_size * p), replace = False):\n",
    "            Xb[i] = rotate(Xb[i], random.uniform(-15., 15.), mode = 'edge')\n",
    "        return Xb \n",
    "    \n",
    "    def add_noise(self, Xb, batch_size, p = 0.5):\n",
    "        \"\"\"\n",
    "        Adds random noise to a random subset of images.\n",
    "        \"\"\"\n",
    "        modes = [\"gaussian\", \"localvar\", \"poisson\", \"speckle\"] # Excluding \"salt\", \"pepper\", \"s&p\" for now\n",
    "        for i in np.random.choice(batch_size, int(batch_size * p), replace = False):\n",
    "            Xb[i] = random_noise(Xb[i], mode = random.choice(modes))\n",
    "        return Xb\n",
    "    \n",
    "    def adjust_gamma(self, Xb, batch_size, p = 0.5):\n",
    "        \"\"\"\n",
    "        Applies gamma adjustment to a random subset of images, updating gamma with a random value in the (0.5, 1.5) range.\n",
    "        \"\"\"\n",
    "        for i in np.random.choice(batch_size, int(batch_size * p), replace = False):\n",
    "            Xb[i] = adjust_gamma(Xb[i], gamma = random.uniform(0.5, 1.5))\n",
    "        return Xb        \n",
    "\n",
    "    def blur(self, Xb, batch_size, p = 0.5):\n",
    "        \"\"\"\n",
    "        Applies gaussian blur with a random sigma in the (0, 0.8) range to a random subset of images.\n",
    "        \"\"\"\n",
    "        for i in np.random.choice(batch_size, int(batch_size * p), replace = False):\n",
    "            Xb[i] = gaussian(Xb[i], sigma = random.uniform(0., 0.8))\n",
    "        return Xb   \n",
    "    \n",
    "    def apply_projection_transform(self, Xb, batch_size, image_size, p = 0.5):\n",
    "        \"\"\"\n",
    "        Applies projection transform to a random subset of images. Projection margins are randomised in a range\n",
    "        of (-10%, +10%) of the image size.\n",
    "        \"\"\"\n",
    "        d = image_size * 0.1\n",
    "        for i in np.random.choice(batch_size, int(batch_size * p), replace = False):        \n",
    "            tl_top = random.uniform(-d, d)     # Top left corner, top margin\n",
    "            tl_left = random.uniform(-d, d)    # Top left corner, left margin\n",
    "            bl_bottom = random.uniform(-d, d)  # Bottom left corner, bottom margin\n",
    "            bl_left = random.uniform(-d, d)    # Bottom left corner, left margin\n",
    "            tr_top = random.uniform(-d, d)     # Top right corner, top margin\n",
    "            tr_right = random.uniform(-d, d)   # Top right corner, right margin\n",
    "            br_bottom = random.uniform(-d, d)  # Bottom right corner, bottom margin\n",
    "            br_right = random.uniform(-d, d)   # Bottom right corner, right margin\n",
    "\n",
    "            transform = ProjectiveTransform()\n",
    "            transform.estimate(np.array((\n",
    "                    (tl_left, tl_top),\n",
    "                    (bl_left, image_size - bl_bottom),\n",
    "                    (image_size - br_right, image_size - br_bottom),\n",
    "                    (image_size - tr_right, tr_top)\n",
    "                )), np.array((\n",
    "                    (0, 0),\n",
    "                    (0, image_size),\n",
    "                    (image_size, image_size),\n",
    "                    (image_size, 0)\n",
    "                )))\n",
    "            Xb[i] = warp(Xb[i], transform, output_shape=(image_size, image_size), mode = 'edge')\n",
    "\n",
    "        return Xb"
   ]
  },
  {
   "cell_type": "code",
   "execution_count": null,
   "metadata": {
    "collapsed": true
   },
   "outputs": [],
   "source": [
    "batch_iterator = AugmentedSignsBatchIterator(batch_size = 20)\n",
    "for x_batch, y_batch in batch_iterator(X_train, y_train):\n",
    "    for i in range(20): \n",
    "        print(\"Source class: \" + class_name(y_train[i]) + \"\\n Batch class: \" + class_name(y_batch[i]))\n",
    "        # plot two images:\n",
    "        fig = pyplot.figure(figsize=(3, 1))\n",
    "        axis = fig.add_subplot(1, 2, 1, xticks=[], yticks=[])\n",
    "        axis.imshow(X_train[i].reshape(image_size, image_size), cmap='gray')\n",
    "        axis = fig.add_subplot(1, 2, 2, xticks=[], yticks=[])\n",
    "        axis.imshow(x_batch[i].reshape(image_size, image_size), cmap='gray')\n",
    "        pyplot.show()\n",
    "    break"
   ]
  },
  {
   "cell_type": "markdown",
   "metadata": {},
   "source": [
    "### Question 1 \n",
    "\n",
    "_Describe the techniques used to preprocess the data._"
   ]
  },
  {
   "cell_type": "markdown",
   "metadata": {},
   "source": [
    "**Answer:**\n",
    "\n",
    "I convert images to grayscale, scale to `[0, 1]` and shuffle the datasets."
   ]
  },
  {
   "cell_type": "markdown",
   "metadata": {},
   "source": [
    "### Question 2\n",
    "\n",
    "_Describe how you set up the training, validation and testing data for your model. If you generated additional data, why?_"
   ]
  },
  {
   "cell_type": "markdown",
   "metadata": {},
   "source": [
    "**Answer:**\n",
    "\n",
    "I decided to use a 20% slice of training data for validation. Normally I would split entire dataset as 70% training, 15% validation, 15% testing, but since here test dataset was supplied separately I assumed it's better to use all of it solely for testing.\n",
    "\n",
    "The dataset looked quite small and some classes were significantly less represented than others, so I reckon the model wouldn't generalise well without additional examples. I decided to use data augmentation by applying randomised transformations while supplying batches of training data to the model. I find Lasagne's `BatchIterator` class very convenient, as one can simply override the `transform()` function and provide their data augmentation pipeline there.\n",
    "\n",
    "So that's what I did, my pipeline includes:\n",
    "* **Rotation**. Rotates the image at a random angle in the range of `[-15, 15]` degrees.\n",
    "* **Projection transform**. Warps the image by projecting each of the image corners to a random point within a 10% of image size distance from the original point.\n",
    "* **Gamma adjustment**. Adjusts image brightness/contrast by applying gamma adjustment in the range of `[0.5, 1.5]`.\n",
    "* **Blur**. Applies gaussian blur with sigma in the range of `[0, 0.8]`.\n",
    "* **Noise**. Adds random noise to the image. I've switched it off for now, but might experiment with it later.\n",
    "* Last but not least, **horizontal flip**. Flips images horizontally if their class would remain the same, *OR* flips and updates the label, if flipped image represents some other class (e.g. flipped *Turn left* sign would become *Turn right*).\n",
    "\n",
    "I chose these transformations as they seemed to be close to what we could see on the photos. Image could be blurred and/or noisy due to low resolution source photo, it can be either too bright or too dark depending on the outside conditions, and it can look rotated and/or projection warped on the photo depending on the shooting angle."
   ]
  },
  {
   "cell_type": "markdown",
   "metadata": {},
   "source": [
    "General routines"
   ]
  },
  {
   "cell_type": "code",
   "execution_count": 8,
   "metadata": {
    "collapsed": true
   },
   "outputs": [],
   "source": [
    "import time\n",
    "\n",
    "def get_time_hhmmss(start):\n",
    "    \"\"\"\n",
    "    Calculates time since `start` and formats as a string.\n",
    "    \"\"\"\n",
    "    end = time.time()\n",
    "    m, s = divmod(end - start, 60)\n",
    "    h, m = divmod(m, 60)\n",
    "    time_str = \"%02d:%02d:%02d\" % (h, m, s)\n",
    "    return time_str"
   ]
  },
  {
   "cell_type": "markdown",
   "metadata": {},
   "source": [
    "TensorFlow routines"
   ]
  },
  {
   "cell_type": "code",
   "execution_count": 58,
   "metadata": {
    "collapsed": true
   },
   "outputs": [],
   "source": [
    "def fully_connected(input, size):\n",
    "    \"\"\"\n",
    "    Performs a single fully connected layer pass, e.g. returns `input * weights + bias`.\n",
    "    \"\"\"\n",
    "    weights = tf.get_variable( 'weights', \n",
    "        shape = [input.get_shape()[1], size],\n",
    "        initializer = tf.contrib.layers.xavier_initializer()\n",
    "      )\n",
    "    biases = tf.get_variable( 'biases',\n",
    "        shape = [size],\n",
    "        initializer = tf.constant_initializer(0.0)\n",
    "      )\n",
    "    return tf.matmul(input, weights) + biases\n",
    "\n",
    "def conv_relu(input, kernel_size, depth):\n",
    "    \"\"\"\n",
    "    Performs a single convolution layer pass.\n",
    "    \"\"\"\n",
    "    weights = tf.get_variable( 'weights', \n",
    "        shape = [kernel_size, kernel_size, input.get_shape()[3], depth],\n",
    "        initializer = tf.contrib.layers.xavier_initializer()\n",
    "      )\n",
    "    biases = tf.get_variable( 'biases',\n",
    "        shape = [depth],\n",
    "        initializer = tf.constant_initializer(0.0)\n",
    "      )\n",
    "    conv = tf.nn.conv2d(input, weights,\n",
    "        strides = [1, 1, 1, 1], padding = 'SAME')\n",
    "    return tf.nn.relu(conv + biases)\n",
    "\n",
    "def pool(input, size):\n",
    "    \"\"\"\n",
    "    Performs a max pooling layer pass.\n",
    "    \"\"\"\n",
    "    return tf.nn.max_pool(\n",
    "        input, \n",
    "        ksize = [1, size, size, 1], \n",
    "        strides = [1, size, size, 1], \n",
    "        padding = 'SAME'\n",
    "    )\n",
    "\n",
    "class EarlyStopping(object):\n",
    "    def __init__(self, saver, session, patience = 100):\n",
    "        self.patience = patience\n",
    "        self.saver = saver\n",
    "        self.session = session\n",
    "        self.best_accuracy = 0.\n",
    "        self.best_accuracy_epoch = 0\n",
    "        self.restore_path = None\n",
    "\n",
    "    def __call__(self, accuracy, epoch):\n",
    "        if accuracy > self.best_accuracy:\n",
    "            self.best_accuracy = accuracy\n",
    "            self.best_accuracy_epoch = epoch\n",
    "            self.restore_path = self.saver.save(self.session, os.getcwd() + \"/early_stopping_checkpoint\")\n",
    "        elif self.best_accuracy_epoch + self.patience < epoch:\n",
    "            print(\"Early stopping.\\nBest monitored loss was {:.6f} at epoch {}.\".format(\n",
    "                self.best_accuracy, self.best_accuracy_epoch\n",
    "            ))\n",
    "            if self.restore_path != None:\n",
    "                self.saver.restore(self.session, self.restore_path)\n",
    "            else:\n",
    "                print(\"ERROR: Failed to restore session\")\n",
    "            return True\n",
    "        \n",
    "        return False"
   ]
  },
  {
   "cell_type": "markdown",
   "metadata": {},
   "source": [
    "Model architecture"
   ]
  },
  {
   "cell_type": "code",
   "execution_count": 54,
   "metadata": {
    "collapsed": true
   },
   "outputs": [],
   "source": [
    "# Training parameters\n",
    "batch_size = 128\n",
    "every_epoch_to_log = 1\n",
    "\n",
    "# Optimisations\n",
    "data_augmentation = False\n",
    "learning_rate_decay = False\n",
    "momentum_increase = False\n",
    "dropout = False\n",
    "l2_reg = False\n",
    "stage2 = False\n",
    "\n",
    "# Layers sizes\n",
    "conv1_k = 5 # 3\n",
    "conv1_d = 32\n",
    "conv2_k = 5 # 2\n",
    "conv2_d = 64\n",
    "conv3_k = 5 # 2\n",
    "conv3_d = 128\n",
    "fc1_size = 1000\n",
    "fc2_size = 1000\n",
    "\n",
    "max_epochs = 1000\n",
    "\n",
    "def model_pass(input):\n",
    "    \"\"\"\n",
    "    Performs a full model pass.\n",
    "    \"\"\"\n",
    "    # Convolutions\n",
    "    with tf.variable_scope('conv1'):\n",
    "        conv1 = conv_relu(input, kernel_size = conv1_k, depth = conv1_d) \n",
    "    with tf.variable_scope('pool1'): \n",
    "        pool1 = pool(conv1, size = 2)\n",
    "        if dropout: pool1 = tf.nn.dropout(pool1, keep_prob = 0.9)\n",
    "    with tf.variable_scope('conv2'):\n",
    "        conv2 = conv_relu(pool1, kernel_size = conv2_k, depth = conv2_d)\n",
    "    with tf.variable_scope('pool2'):\n",
    "        pool2 = pool(conv2, size = 2)\n",
    "        if dropout: pool2 = tf.nn.dropout(pool2, keep_prob = 0.8)\n",
    "    with tf.variable_scope('conv3'):\n",
    "        conv3 = conv_relu(pool2, kernel_size = conv3_k, depth = conv3_d)\n",
    "    with tf.variable_scope('pool3'):\n",
    "        pool3 = pool(conv3, size = 2)\n",
    "        if dropout: pool3 = tf.nn.dropout(pool3, keep_prob = 0.7)\n",
    "    \n",
    "    # Fully connected\n",
    "    shape = pool3.get_shape().as_list()\n",
    "    pool3 = tf.reshape(pool3, [-1, shape[1] * shape[2] * shape[3]])\n",
    "    \n",
    "    with tf.variable_scope('fc4'):\n",
    "        fc4 = fully_connected(pool3, size = fc1_size)\n",
    "        if dropout: fc4 = tf.nn.dropout(fc4, keep_prob = 0.5)\n",
    "#     with tf.variable_scope('fc5'):\n",
    "#         fc5 = fully_connected(fc4, size = fc2_size)\n",
    "    with tf.variable_scope('out'):\n",
    "        prediction = fully_connected(fc4, size = n_classes)\n",
    "    return prediction"
   ]
  },
  {
   "cell_type": "markdown",
   "metadata": {},
   "source": [
    "### Question 3\n",
    "\n",
    "_What does your final architecture look like? (Type of model, layers, sizes, connectivity, etc.)  For reference on how to build a deep neural network using TensorFlow, see [Deep Neural Network in TensorFlow\n",
    "](https://classroom.udacity.com/nanodegrees/nd013/parts/fbf77062-5703-404e-b60c-95b78b2f3f9e/modules/6df7ae49-c61c-4bb2-a23e-6527e69209ec/lessons/b516a270-8600-4f93-a0a3-20dfeabe5da6/concepts/83a3a2a2-a9bd-4b7b-95b0-eb924ab14432) from the classroom._\n"
   ]
  },
  {
   "cell_type": "markdown",
   "metadata": {},
   "source": [
    "**Answer:**"
   ]
  },
  {
   "cell_type": "code",
   "execution_count": 55,
   "metadata": {
    "collapsed": false
   },
   "outputs": [],
   "source": [
    "import os\n",
    "\n",
    "# We will encode model settings in its name: architecture, optimisations applied, etc.\n",
    "model_name = \"k{}d{}_k{}d{}_k{}d{}_fc{}_fc{}\".format(conv1_k, conv1_d, conv2_k, conv2_d, conv3_k, conv3_d, fc1_size, fc2_size)\n",
    "model_name += \"_st2\" if stage2 else \"_no-st2\"\n",
    "model_name += \"_aug\" if data_augmentation else \"_no-aug\"\n",
    "model_name += \"_lrdec\" if learning_rate_decay else \"_no-lrdec\"\n",
    "model_name += \"_mominc\" if momentum_increase else \"_no-mom\"\n",
    "model_name += \"_dr\" if dropout else \"_no-dr\"\n",
    "model_name += \"_l2\" if l2_reg else \"_no-l2\"\n",
    "\n",
    "root_location = os.getcwd() + \"/models/\"\n",
    "model_variable_scope = model_name\n",
    "model_path = root_location + model_name + \"/model.ckpt\"\n",
    "train_history_path = root_location + model_name + \"/train_history\"\n",
    "\n",
    "os.makedirs(root_location + model_name + \"/\", exist_ok = True)"
   ]
  },
  {
   "cell_type": "code",
   "execution_count": 56,
   "metadata": {
    "collapsed": false
   },
   "outputs": [],
   "source": [
    "graph = tf.Graph()\n",
    "\n",
    "with graph.as_default():\n",
    "    # Input data. For the training data, we use a placeholder that will be fed at run time with a training minibatch.\n",
    "    tf_x_batch = tf.placeholder(tf.float32, shape = (None, image_size, image_size, 1))\n",
    "    tf_y_batch = tf.placeholder(tf.float32, shape = (None, n_classes))\n",
    "\n",
    "    current_epoch = tf.Variable(0)  # count the number of epochs\n",
    "\n",
    "    # Model parameters.\n",
    "    learning_rate = tf.train.exponential_decay(0.03, current_epoch, decay_steps = max_epochs, decay_rate = 0.03) if learning_rate_decay else 0.001\n",
    "    momentum = 0.9 + (0.99 - 0.9) * (current_epoch / max_epochs) if momentum_increase else 0.99\n",
    "    \n",
    "    # Training computation.\n",
    "    with tf.variable_scope(model_variable_scope):\n",
    "        logits = model_pass(tf_x_batch)\n",
    "        if l2_reg:\n",
    "            with tf.variable_scope('fc4'):\n",
    "                l2_loss = tf.nn.l2_loss(tf.get_variable('weights'))\n",
    "#             with tf.variable_scope('fc5'):\n",
    "#                 l2_loss += tf.nn.l2_loss(tf.get_variable('weights'))   \n",
    "        else:\n",
    "            l2_loss = 0\n",
    "    \n",
    "    predictions = tf.nn.softmax(logits)\n",
    "    softmax_cross_entropy = tf.nn.softmax_cross_entropy_with_logits(logits, tf_y_batch)\n",
    "    loss = tf.reduce_mean(softmax_cross_entropy) + 0.1 * l2_loss  \n",
    "    \n",
    "    # Optimizer.\n",
    "    optimizer = tf.train.AdamOptimizer(\n",
    "        learning_rate = learning_rate\n",
    "    ).minimize(loss)"
   ]
  },
  {
   "cell_type": "code",
   "execution_count": 57,
   "metadata": {
    "collapsed": false
   },
   "outputs": [
    {
     "name": "stdout",
     "output_type": "stream",
     "text": [
      "WARNING:tensorflow:From <ipython-input-57-be7ee3644d8f>:22 in <module>.: initialize_all_variables (from tensorflow.python.ops.variables) is deprecated and will be removed after 2017-03-02.\n",
      "Instructions for updating:\n",
      "Use `tf.global_variables_initializer` instead.\n",
      "================ TRAINING =================\n",
      "------------- EPOCH    0/1000 -------------\n",
      "     Train loss: 0.38459766, accuracy: 88.77%\n",
      "Validation loss: 0.43444297, accuracy: 87.39%\n",
      "           Time: 00:00:04\n",
      "------------- EPOCH   10/1000 -------------\n",
      "     Train loss: 0.01631608, accuracy: 99.50%\n",
      "Validation loss: 0.08980887, accuracy: 98.06%\n",
      "           Time: 00:00:46\n",
      "------------- EPOCH   20/1000 -------------\n",
      "     Train loss: 0.00736202, accuracy: 99.79%\n",
      "Validation loss: 0.07885782, accuracy: 98.39%\n",
      "           Time: 00:01:26\n",
      "------------- EPOCH   30/1000 -------------\n",
      "     Train loss: 0.00168998, accuracy: 99.95%\n",
      "Validation loss: 0.05299953, accuracy: 99.12%\n",
      "           Time: 00:02:05\n",
      "------------- EPOCH   40/1000 -------------\n",
      "     Train loss: 0.00834718, accuracy: 99.80%\n",
      "Validation loss: 0.08035826, accuracy: 98.85%\n",
      "           Time: 00:02:44\n",
      "------------- EPOCH   50/1000 -------------\n",
      "     Train loss: 0.01521280, accuracy: 99.73%\n",
      "Validation loss: 0.08692062, accuracy: 98.78%\n",
      "           Time: 00:03:24\n",
      "------------- EPOCH   60/1000 -------------\n",
      "     Train loss: 0.00448946, accuracy: 99.90%\n",
      "Validation loss: 0.11353485, accuracy: 98.97%\n",
      "           Time: 00:04:02\n",
      "------------- EPOCH   70/1000 -------------\n",
      "     Train loss: 0.00792777, accuracy: 99.87%\n",
      "Validation loss: 0.13988183, accuracy: 98.98%\n",
      "           Time: 00:04:42\n",
      "------------- EPOCH   80/1000 -------------\n",
      "     Train loss: 0.01326652, accuracy: 99.74%\n",
      "Validation loss: 0.15834048, accuracy: 98.62%\n",
      "           Time: 00:05:21\n",
      "------------- EPOCH   90/1000 -------------\n",
      "     Train loss: 0.01667661, accuracy: 99.80%\n",
      "Validation loss: 0.16015811, accuracy: 98.92%\n",
      "           Time: 00:06:00\n",
      "------------- EPOCH  100/1000 -------------\n",
      "     Train loss: 0.00915211, accuracy: 99.95%\n",
      "Validation loss: 0.17636119, accuracy: 99.23%\n",
      "           Time: 00:06:40\n",
      "------------- EPOCH  110/1000 -------------\n",
      "     Train loss: 0.00055077, accuracy: 99.99%\n",
      "Validation loss: 0.15447062, accuracy: 99.30%\n",
      "           Time: 00:07:20\n",
      "------------- EPOCH  120/1000 -------------\n",
      "     Train loss: 0.01145938, accuracy: 99.82%\n",
      "Validation loss: 0.28202507, accuracy: 98.92%\n",
      "           Time: 00:08:00\n",
      "------------- EPOCH  130/1000 -------------\n",
      "     Train loss: 0.00387369, accuracy: 99.96%\n",
      "Validation loss: 0.30402899, accuracy: 99.13%\n",
      "           Time: 00:08:39\n",
      "------------- EPOCH  140/1000 -------------\n",
      "     Train loss: 0.01973645, accuracy: 99.87%\n",
      "Validation loss: 0.31317550, accuracy: 99.08%\n",
      "           Time: 00:09:19\n",
      "------------- EPOCH  150/1000 -------------\n",
      "     Train loss: 0.00969682, accuracy: 99.89%\n",
      "Validation loss: 0.36699453, accuracy: 99.08%\n",
      "           Time: 00:09:58\n",
      "------------- EPOCH  160/1000 -------------\n",
      "     Train loss: 0.07986604, accuracy: 99.64%\n",
      "Validation loss: 0.64283890, accuracy: 98.28%\n",
      "           Time: 00:10:37\n",
      "------------- EPOCH  170/1000 -------------\n",
      "     Train loss: 0.06099914, accuracy: 99.86%\n",
      "Validation loss: 0.57675308, accuracy: 99.09%\n",
      "           Time: 00:11:16\n",
      "------------- EPOCH  180/1000 -------------\n",
      "     Train loss: 0.01373192, accuracy: 99.91%\n",
      "Validation loss: 0.34034660, accuracy: 99.32%\n",
      "           Time: 00:11:55\n",
      "------------- EPOCH  190/1000 -------------\n",
      "     Train loss: 0.02772585, accuracy: 99.88%\n",
      "Validation loss: 0.53568316, accuracy: 99.03%\n",
      "           Time: 00:12:35\n",
      "------------- EPOCH  200/1000 -------------\n",
      "     Train loss: 0.01202204, accuracy: 99.95%\n",
      "Validation loss: 0.48357126, accuracy: 99.22%\n",
      "           Time: 00:13:14\n",
      "------------- EPOCH  210/1000 -------------\n",
      "     Train loss: 0.08568794, accuracy: 99.83%\n",
      "Validation loss: 1.07498050, accuracy: 99.01%\n",
      "           Time: 00:13:53\n",
      "Early stopping.\n",
      "Best monitored loss was 0.561081 at epoch 111.\n",
      "===========================================\n",
      " Test loss: 2.36609817, accuracy = 94.81%)\n",
      " Total time: 00:14:01\n",
      "Model file: /home/alex/Projects/Study/udacity-SDCND/traffic-signs/models/k5d32_k5d64_k5d128_fc1000_fc1000_no-st2_no-aug_no-lrdec_no-mom_no-dr_no-l2/model.ckpt\n",
      "Train history file: /home/alex/Projects/Study/udacity-SDCND/traffic-signs/models/k5d32_k5d64_k5d128_fc1000_fc1000_no-st2_no-aug_no-lrdec_no-mom_no-dr_no-l2/train_history\n"
     ]
    }
   ],
   "source": [
    "start = time.time()\n",
    "\n",
    "def get_accuracy_and_loss_in_batches(X, y, session):\n",
    "    p = []\n",
    "    sce = []\n",
    "    batch_iterator = BatchIterator(batch_size = 128)\n",
    "    for x_batch, y_batch in batch_iterator(X, y):\n",
    "        [p_batch, sce_batch] = session.run([predictions, softmax_cross_entropy], feed_dict = {\n",
    "                tf_x_batch : x_batch, \n",
    "                tf_y_batch : y_batch\n",
    "            }\n",
    "        )\n",
    "        p.extend(p_batch)\n",
    "        sce.extend(sce_batch)\n",
    "    p = np.array(p)\n",
    "    sce = np.array(sce)\n",
    "    accuracy = 100.0 * np.sum(np.argmax(p, 1) == np.argmax(y, 1)) / p.shape[0]\n",
    "    loss = np.mean(sce)\n",
    "    return (accuracy, loss)\n",
    "\n",
    "with tf.Session(graph = graph) as session:\n",
    "    tf.initialize_all_variables().run()\n",
    "    saver = tf.train.Saver()\n",
    "    early_stopping = EarlyStopping(tf.train.Saver(), session)\n",
    "    train_loss_history = np.zeros(max_epochs)\n",
    "    valid_loss_history = np.zeros(max_epochs)\n",
    "    print(\"================ TRAINING =================\")\n",
    "    for epoch in range(max_epochs):\n",
    "        current_epoch = epoch\n",
    "        # Train on whole randomised dataset in batches\n",
    "        batch_iterator = AugmentedSignsBatchIterator(batch_size = batch_size, shuffle = True) if data_augmentation else BatchIterator(batch_size = batch_size, shuffle = True)\n",
    "        for x_batch, y_batch in batch_iterator(X_train, y_train):\n",
    "            session.run([optimizer], feed_dict = {\n",
    "                    tf_x_batch : x_batch, \n",
    "                    tf_y_batch : y_batch\n",
    "                }\n",
    "            )\n",
    "\n",
    "        # Get validation data predictions and log validation loss:\n",
    "        valid_accuracy, valid_loss = get_accuracy_and_loss_in_batches(X_valid, y_valid, session)\n",
    "        valid_loss_history[epoch] = valid_loss\n",
    "        \n",
    "        # If another significant epoch ended, we log our losses.\n",
    "        if (epoch % every_epoch_to_log == 0):\n",
    "            # Get training data predictions and log training loss:\n",
    "            train_accuracy, train_loss = get_accuracy_and_loss_in_batches(X_train, y_train, session)\n",
    "            train_loss_history[epoch] = train_loss\n",
    "            \n",
    "            if (epoch % 10 == 0):\n",
    "                print(\"------------- EPOCH %4d/%d -------------\" % (epoch, max_epochs))\n",
    "                print(\"     Train loss: %.8f, accuracy: %.2f%%\" % (train_loss, train_accuracy))\n",
    "                print(\"Validation loss: %.8f, accuracy: %.2f%%\" % (valid_loss, valid_accuracy))\n",
    "                print(\"           Time: \" + get_time_hhmmss(start))\n",
    "                \n",
    "        if early_stopping(valid_accuracy, epoch): break\n",
    "                \n",
    "    # Evaluate on test dataset.\n",
    "    test_accuracy, test_loss = get_accuracy_and_loss_in_batches(X_test, y_test, session)\n",
    "    print(\"===========================================\")\n",
    "    print(\" Test loss: %.8f, accuracy = %.2f%%)\" % (test_loss, test_accuracy)) \n",
    "    print(\" Total time: \" + get_time_hhmmss(start))\n",
    "    \n",
    "    # Save model weights for future use.\n",
    "    save_path = saver.save(session, model_path)\n",
    "    print(\"Model file: \" + save_path)\n",
    "    np.savez(train_history_path, train_loss_history = train_loss_history, valid_loss_history = valid_loss_history)\n",
    "    print(\"Train history file: \" + train_history_path)"
   ]
  },
  {
   "cell_type": "code",
   "execution_count": 59,
   "metadata": {
    "collapsed": true
   },
   "outputs": [],
   "source": [
    "# Plots history of learning curves for a specific model. You may want to call `pyplot.show()` afterwards.\n",
    "def plot_learning_curves(model = model_name, linewidth = 2, train_linestyle = \"b-\", valid_linestyle = \"g-\"):\n",
    "    model_history = np.load(root_location + model + \"/train_history.npz\")\n",
    "    train_loss = model_history[\"train_loss_history\"]\n",
    "    valid_loss = model_history[\"valid_loss_history\"]\n",
    "    epochs = train_loss.shape[0]\n",
    "    x_axis = np.arange(epochs)\n",
    "    pyplot.plot(x_axis[train_loss > 0], train_loss[train_loss > 0], train_linestyle, linewidth=linewidth, label=\"train\")\n",
    "    pyplot.plot(x_axis[valid_loss > 0], valid_loss[valid_loss > 0], valid_linestyle, linewidth=linewidth, label=\"valid\")\n",
    "    return train_loss[train_loss > 0].shape[0]"
   ]
  },
  {
   "cell_type": "code",
   "execution_count": 60,
   "metadata": {
    "collapsed": false
   },
   "outputs": [
    {
     "data": {
      "image/png": "[encoded data removed]",
      "text/plain": [
       "<matplotlib.figure.Figure at 0x7f3190c746d8>"
      ]
     },
     "metadata": {},
     "output_type": "display_data"
    }
   ],
   "source": [
    "new_model_epochs = plot_learning_curves()\n",
    "old_model_epochs = 0#plot_learning_curves(\"3con_2fc_b36_e1000_aug_lrdec_mominc\", linewidth = 1)\n",
    "\n",
    "pyplot.grid()\n",
    "pyplot.legend()\n",
    "pyplot.xlabel(\"epoch\")\n",
    "pyplot.ylabel(\"loss\")\n",
    "pyplot.ylim(0.001, 10)\n",
    "pyplot.xlim(0, max(new_model_epochs, old_model_epochs))\n",
    "pyplot.yscale(\"log\")\n",
    "pyplot.show()"
   ]
  },
  {
   "cell_type": "markdown",
   "metadata": {},
   "source": [
    "### Question 4\n",
    "\n",
    "_How did you train your model? (Type of optimizer, batch size, epochs, hyperparameters, etc.)_\n"
   ]
  },
  {
   "cell_type": "markdown",
   "metadata": {},
   "source": [
    "**Answer:**"
   ]
  },
  {
   "cell_type": "markdown",
   "metadata": {},
   "source": [
    "### Question 5\n",
    "\n",
    "\n",
    "_What approach did you take in coming up with a solution to this problem?_"
   ]
  },
  {
   "cell_type": "markdown",
   "metadata": {},
   "source": [
    "**Answer:**"
   ]
  },
  {
   "cell_type": "markdown",
   "metadata": {},
   "source": [
    "---\n",
    "\n",
    "## Step 3: Test a Model on New Images\n",
    "\n",
    "Take several pictures of traffic signs that you find on the web or around you (at least five), and run them through your classifier on your computer to produce example results. The classifier might not recognize some local signs but it could prove interesting nonetheless.\n",
    "\n",
    "You may find `signnames.csv` useful as it contains mappings from the class id (integer) to the actual sign name."
   ]
  },
  {
   "cell_type": "markdown",
   "metadata": {},
   "source": [
    "### Implementation\n",
    "\n",
    "Use the code cell (or multiple code cells, if necessary) to implement the first step of your project. Once you have completed your implementation and are satisfied with the results, be sure to thoroughly answer the questions that follow."
   ]
  },
  {
   "cell_type": "code",
   "execution_count": null,
   "metadata": {
    "collapsed": true
   },
   "outputs": [],
   "source": [
    "### Load the images and plot them here.\n",
    "### Feel free to use as many code cells as needed."
   ]
  },
  {
   "cell_type": "markdown",
   "metadata": {},
   "source": [
    "### Question 6\n",
    "\n",
    "_Choose five candidate images of traffic signs and provide them in the report. Are there any particular qualities of the image(s) that might make classification difficult? It would be helpful to plot the images in the notebook._\n",
    "\n"
   ]
  },
  {
   "cell_type": "markdown",
   "metadata": {},
   "source": [
    "**Answer:**"
   ]
  },
  {
   "cell_type": "code",
   "execution_count": null,
   "metadata": {
    "collapsed": true
   },
   "outputs": [],
   "source": [
    "### Run the predictions here.\n",
    "### Feel free to use as many code cells as needed."
   ]
  },
  {
   "cell_type": "markdown",
   "metadata": {},
   "source": [
    "### Question 7\n",
    "\n",
    "_Is your model able to perform equally well on captured pictures when compared to testing on the dataset?_\n"
   ]
  },
  {
   "cell_type": "markdown",
   "metadata": {},
   "source": [
    "**Answer:**"
   ]
  },
  {
   "cell_type": "code",
   "execution_count": null,
   "metadata": {
    "collapsed": true
   },
   "outputs": [],
   "source": [
    "### Visualize the softmax probabilities here.\n",
    "### Feel free to use as many code cells as needed."
   ]
  },
  {
   "cell_type": "markdown",
   "metadata": {},
   "source": [
    "### Question 8\n",
    "\n",
    "*Use the model's softmax probabilities to visualize the **certainty** of its predictions, [`tf.nn.top_k`](https://www.tensorflow.org/versions/r0.11/api_docs/python/nn.html#top_k) could prove helpful here. Which predictions is the model certain of? Uncertain? If the model was incorrect in its initial prediction, does the correct prediction appear in the top k? (k should be 5 at most)*\n"
   ]
  },
  {
   "cell_type": "markdown",
   "metadata": {},
   "source": [
    "**Answer:**"
   ]
  },
  {
   "cell_type": "markdown",
   "metadata": {},
   "source": [
    "### Question 9\n",
    "_If necessary, provide documentation for how an interface was built for your model to load and classify newly-acquired images._\n"
   ]
  },
  {
   "cell_type": "markdown",
   "metadata": {},
   "source": [
    "**Answer:**"
   ]
  },
  {
   "cell_type": "markdown",
   "metadata": {},
   "source": [
    "> **Note**: Once you have completed all of the code implementations and successfully answered each question above, you may finalize your work by exporting the iPython Notebook as an HTML document. You can do this by using the menu above and navigating to  \\n\",\n",
    "    \"**File -> Download as -> HTML (.html)**. Include the finished document along with this notebook as your submission."
   ]
  },
  {
   "cell_type": "code",
   "execution_count": null,
   "metadata": {
    "collapsed": true
   },
   "outputs": [],
   "source": []
  }
 ],
 "metadata": {
  "anaconda-cloud": {},
  "kernelspec": {
   "display_name": "Python [default]",
   "language": "python",
   "name": "python3"
  },
  "language_info": {
   "codemirror_mode": {
    "name": "ipython",
    "version": 3
   },
   "file_extension": ".py",
   "mimetype": "text/x-python",
   "name": "python",
   "nbconvert_exporter": "python",
   "pygments_lexer": "ipython3",
   "version": "3.5.2"
  }
 },
 "nbformat": 4,
 "nbformat_minor": 1
}
